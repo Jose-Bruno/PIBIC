{
  "nbformat": 4,
  "nbformat_minor": 0,
  "metadata": {
    "colab": {
      "name": "Teste_Redes_watts-strogatz.ipynb",
      "provenance": [],
      "include_colab_link": true
    },
    "kernelspec": {
      "name": "python3",
      "display_name": "Python 3"
    }
  },
  "cells": [
    {
      "cell_type": "markdown",
      "metadata": {
        "id": "view-in-github",
        "colab_type": "text"
      },
      "source": [
        "<a href=\"https://colab.research.google.com/github/Jose-Bruno/PIBIC/blob/master/Teste_Redes_watts_strogatz.ipynb\" target=\"_parent\"><img src=\"https://colab.research.google.com/assets/colab-badge.svg\" alt=\"Open In Colab\"/></a>"
      ]
    },
    {
      "cell_type": "code",
      "metadata": {
        "id": "xRLA4uG0AdhE",
        "colab_type": "code",
        "colab": {
          "base_uri": "https://localhost:8080/",
          "height": 34
        },
        "outputId": "e8e4d3fe-e8e6-4b86-f587-84652f3638c0"
      },
      "source": [
        "from google.colab import drive\n",
        "drive.mount('/content/drive/')"
      ],
      "execution_count": 29,
      "outputs": [
        {
          "output_type": "stream",
          "text": [
            "Drive already mounted at /content/drive/; to attempt to forcibly remount, call drive.mount(\"/content/drive/\", force_remount=True).\n"
          ],
          "name": "stdout"
        }
      ]
    },
    {
      "cell_type": "code",
      "metadata": {
        "id": "coTLPx3tBUfr",
        "colab_type": "code",
        "colab": {}
      },
      "source": [
        "import pandas as pd\n",
        "import matplotlib.pyplot as plt"
      ],
      "execution_count": 30,
      "outputs": []
    },
    {
      "cell_type": "code",
      "metadata": {
        "id": "ghLaKW-lBV0I",
        "colab_type": "code",
        "colab": {}
      },
      "source": [
        "dados = pd.read_csv('/content/drive/My Drive/PIBIC 2020-2021/Datasets/output1.csv')"
      ],
      "execution_count": 31,
      "outputs": []
    },
    {
      "cell_type": "code",
      "metadata": {
        "id": "H1HlrwF4B77a",
        "colab_type": "code",
        "colab": {
          "base_uri": "https://localhost:8080/",
          "height": 204
        },
        "outputId": "4c30efd8-4bb6-4912-ad5a-6fcb77842732"
      },
      "source": [
        "dados.head()"
      ],
      "execution_count": 32,
      "outputs": [
        {
          "output_type": "execute_result",
          "data": {
            "text/html": [
              "<div>\n",
              "<style scoped>\n",
              "    .dataframe tbody tr th:only-of-type {\n",
              "        vertical-align: middle;\n",
              "    }\n",
              "\n",
              "    .dataframe tbody tr th {\n",
              "        vertical-align: top;\n",
              "    }\n",
              "\n",
              "    .dataframe thead th {\n",
              "        text-align: right;\n",
              "    }\n",
              "</style>\n",
              "<table border=\"1\" class=\"dataframe\">\n",
              "  <thead>\n",
              "    <tr style=\"text-align: right;\">\n",
              "      <th></th>\n",
              "      <th>p</th>\n",
              "      <th>C(p)/C(0)</th>\n",
              "      <th>L(p)/L(0)</th>\n",
              "    </tr>\n",
              "  </thead>\n",
              "  <tbody>\n",
              "    <tr>\n",
              "      <th>0</th>\n",
              "      <td>0.000100</td>\n",
              "      <td>0.999418</td>\n",
              "      <td>0.909852</td>\n",
              "    </tr>\n",
              "    <tr>\n",
              "      <th>1</th>\n",
              "      <td>0.000126</td>\n",
              "      <td>0.999202</td>\n",
              "      <td>0.818256</td>\n",
              "    </tr>\n",
              "    <tr>\n",
              "      <th>2</th>\n",
              "      <td>0.000158</td>\n",
              "      <td>0.999202</td>\n",
              "      <td>0.758408</td>\n",
              "    </tr>\n",
              "    <tr>\n",
              "      <th>3</th>\n",
              "      <td>0.000200</td>\n",
              "      <td>1.000000</td>\n",
              "      <td>0.771392</td>\n",
              "    </tr>\n",
              "    <tr>\n",
              "      <th>4</th>\n",
              "      <td>0.000251</td>\n",
              "      <td>0.999161</td>\n",
              "      <td>0.736004</td>\n",
              "    </tr>\n",
              "  </tbody>\n",
              "</table>\n",
              "</div>"
            ],
            "text/plain": [
              "          p  C(p)/C(0)  L(p)/L(0)\n",
              "0  0.000100   0.999418   0.909852\n",
              "1  0.000126   0.999202   0.818256\n",
              "2  0.000158   0.999202   0.758408\n",
              "3  0.000200   1.000000   0.771392\n",
              "4  0.000251   0.999161   0.736004"
            ]
          },
          "metadata": {
            "tags": []
          },
          "execution_count": 32
        }
      ]
    },
    {
      "cell_type": "code",
      "metadata": {
        "id": "oYSam-grCIlh",
        "colab_type": "code",
        "colab": {}
      },
      "source": [
        "probabilidade = dados['p']\n",
        "coeficiente_agrupamento = dados['C(p)/C(0)']\n",
        "diametro = dados['L(p)/L(0)']"
      ],
      "execution_count": 33,
      "outputs": []
    },
    {
      "cell_type": "code",
      "metadata": {
        "id": "Huzi6FEeDLM6",
        "colab_type": "code",
        "colab": {
          "base_uri": "https://localhost:8080/",
          "height": 281
        },
        "outputId": "821338b7-c1a3-44e2-c84c-692a1f68c834"
      },
      "source": [
        "#plt.plot(probabilidade, coeficiente_agrupamento)\n",
        "plt.plot(probabilidade, diametro)\n",
        "\n",
        "#plt.xticks([0.0001,0.001,0.01,1])\n",
        "#plt.yticks([0,0.2,0.4,0.6,0.8,1])\n",
        "#plt.ylim(ymin = 0, ymax = 1 )\n",
        "#plt.xlim(xmin = 0, xmax = 0.3)\n",
        "\n",
        "plt.title(' Rede ')\n",
        "plt.show()"
      ],
      "execution_count": 34,
      "outputs": [
        {
          "output_type": "display_data",
          "data": {
            "image/png": "[encoded data removed]",
            "text/plain": [
              "<Figure size 432x288 with 1 Axes>"
            ]
          },
          "metadata": {
            "tags": [],
            "needs_background": "light"
          }
        }
      ]
    }
  ]
}